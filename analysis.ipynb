{
 "cells": [
  {
   "cell_type": "markdown",
   "id": "749d7b48",
   "metadata": {},
   "source": [
    "Добавление сэмпла 'result.json' и преобразование его в list"
   ]
  },
  {
   "cell_type": "code",
   "execution_count": null,
   "id": "96c9a3aa",
   "metadata": {},
   "outputs": [],
   "source": [
    "from json import load\n",
    "class News:\n",
    "    def __init__(self):\n",
    "        self.url = \"\"\n",
    "        self.title = \"\"\n",
    "        self.text = \"\"\n",
    "        self.autor = []\n",
    "        self.img = []\n",
    "        self.urls = []\n",
    "        self.dateday = \"\"\n",
    "        self.tags = []\n",
    "news = list()\n",
    "with open('result.json', 'r', encoding=\"utf-8\") as json_file:\n",
    "    data = load(json_file)\n",
    "    data_count = len(data)\n",
    "    for i in range(data_count):\n",
    "        inp = News()\n",
    "        inp.url = data[i]['url']\n",
    "        inp.title = data[i]['title']\n",
    "        inp.text = data[i]['text']\n",
    "        inp.autor = data[i]['autor']\n",
    "        inp.img = data[i]['img']\n",
    "        inp.urls = data[i]['urls']\n",
    "        inp.dateday = data[i]['dateday']\n",
    "        inp.tags = data[i]['tags']\n",
    "        news.append(inp)"
   ]
  },
  {
   "cell_type": "markdown",
   "id": "74ffa34d",
   "metadata": {},
   "source": [
    "Задание 1: Построить word cloud по текстам статей."
   ]
  },
  {
   "cell_type": "code",
   "execution_count": null,
   "id": "04e19832",
   "metadata": {
    "scrolled": true
   },
   "outputs": [],
   "source": [
    "import pymorphy2\n",
    "from wordcloud import WordCloud\n",
    "import matplotlib.pyplot as plt\n",
    "%matplotlib inline\n",
    "from string import punctuation\n",
    "from nltk import word_tokenize, Text\n",
    "from nltk.probability import FreqDist\n",
    "from nltk.corpus import stopwords\n",
    "morph = pymorphy2.MorphAnalyzer()\n",
    "all_str = \"\"\n",
    "for x in news:\n",
    "    all_str += x.text\n",
    "all_str = all_str.lower()\n",
    "spec_chars = punctuation + '\\n\\xa0«»\\t—…0123456789–№'\n",
    "all_str = \"\".join([ch for ch in all_str if ch not in spec_chars])\n",
    "words = stopwords.words(\"russian\")\n",
    "words.extend([\"это\",\"также\",\"изза\", \"около\",\"тех\",\"м\",\"ещё\",\"её\",\"два\"])\n",
    "for word in words:\n",
    "    all_str= all_str.replace(\" \"+ word + \" \", \" \")\n",
    "while \"  \" in all_str:\n",
    "    all_str= all_str.replace(\"  \", \" \")\n",
    "str_tok = word_tokenize(all_str, language=\"russian\")\n",
    "for i in range(len(str_tok)):\n",
    "    str_tok[i] = morph.parse(str_tok[i])[0].normal_form\n",
    "all_str = Text(str_tok)\n",
    "text_raw = \" \".join(all_str)\n",
    "wordcloud = WordCloud(max_font_size=100, background_color=\"white\").generate(text_raw)\n",
    "\n",
    "plt.figure(figsize=(10, 10))\n",
    "plt.imshow(wordcloud, interpolation='bilinear')\n",
    "plt.axis(\"off\")\n",
    "plt.show()"
   ]
  },
  {
   "cell_type": "markdown",
   "id": "f819b6fb",
   "metadata": {},
   "source": [
    "Задание 2: Иногда в тексте статьи есть ссылки на предыдущие публикации по данной теме, в них тоже могут быть такие ссылки и т.д. Построить все такие цепочки, выделить топ-N самых длинных."
   ]
  },
  {
   "cell_type": "code",
   "execution_count": null,
   "id": "5627d59f",
   "metadata": {},
   "outputs": [],
   "source": [
    "import operator\n",
    "def Srch(key, dict, news):\n",
    "    ch = dict.get(key.url)\n",
    "    if ch != None:\n",
    "        return ch\n",
    "    if len(key.urls) == 0:\n",
    "        return 0\n",
    "    maxtemp = 0\n",
    "    flag = False\n",
    "    for i in key.urls:\n",
    "        if i == key.url:\n",
    "            continue\n",
    "        temp = 0\n",
    "        ch = dict.get(i)\n",
    "        if ch != None:\n",
    "            temp = ch\n",
    "        else:\n",
    "            for x in news:\n",
    "                if(x.url == i):\n",
    "                    dict[x.url] = Srch(x, dict, news)\n",
    "                    temp = dict[x.url]\n",
    "                    flag = True\n",
    "        maxtemp = max(temp, maxtemp)\n",
    "    if not flag:\n",
    "        return 0\n",
    "    else:\n",
    "        return maxtemp + 1\n",
    "dict = {}\n",
    "for x in news:\n",
    "    dict[x.url] = Srch(x, dict, news)\n",
    "sort_tup = sorted(dict.items(), key=operator.itemgetter(1), reverse=True)\n",
    "print(\"Введите N:\")\n",
    "N = int(input())\n",
    "for i in range(N):\n",
    "    print(str(i+1) + ') ' + sort_tup[i][0] + ' - ' +\n",
    "          str(sort_tup[i][1]) + ' переходов')\n",
    "\n"
   ]
  }
 ],
 "metadata": {
  "kernelspec": {
   "display_name": "Python 3 (ipykernel)",
   "language": "python",
   "name": "python3"
  },
  "language_info": {
   "codemirror_mode": {
    "name": "ipython",
    "version": 3
   },
   "file_extension": ".py",
   "mimetype": "text/x-python",
   "name": "python",
   "nbconvert_exporter": "python",
   "pygments_lexer": "ipython3",
   "version": "3.9.7"
  }
 },
 "nbformat": 4,
 "nbformat_minor": 5
}
